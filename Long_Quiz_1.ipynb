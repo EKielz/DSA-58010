{
  "nbformat": 4,
  "nbformat_minor": 0,
  "metadata": {
    "colab": {
      "provenance": [],
      "authorship_tag": "ABX9TyNZDCp2VKwX9VHPIw/eJDgo",
      "include_colab_link": true
    },
    "kernelspec": {
      "name": "python3",
      "display_name": "Python 3"
    },
    "language_info": {
      "name": "python"
    }
  },
  "cells": [
    {
      "cell_type": "markdown",
      "metadata": {
        "id": "view-in-github",
        "colab_type": "text"
      },
      "source": [
        "<a href=\"https://colab.research.google.com/github/EKielz/DSA-58010/blob/main/Long_Quiz_1.ipynb\" target=\"_parent\"><img src=\"https://colab.research.google.com/assets/colab-badge.svg\" alt=\"Open In Colab\"/></a>"
      ]
    },
    {
      "cell_type": "markdown",
      "source": [
        "Create a python program that appends each character of your full name and displays each character in reverse order"
      ],
      "metadata": {
        "id": "eP0puuX8PyTA"
      }
    },
    {
      "cell_type": "code",
      "source": [
        "Name = ['E','z','e','k','i','e','l','B','e','t','c','h','a','y','d','a']\n",
        "\n",
        "x = Name[0]\n",
        "x2 = Name[1]\n",
        "x3 = Name[2]\n",
        "x4 = Name[3]\n",
        "x5 = Name[4]\n",
        "x6 = Name[5]\n",
        "x7 = Name[6]\n",
        "x8 = Name[7]\n",
        "x9 = Name[8]\n",
        "x9 = Name[9]\n",
        "x10 = Name[10]\n",
        "x11 = Name[11]\n",
        "x12 = Name[12]\n",
        "x13 = Name[13]\n",
        "x14 = Name[14]\n",
        "x15 = Name[15]\n",
        "\n",
        "print(x15,x14,x13,x12,x11,x10,x9,x3,x8,x7,x6,x5,x4,x3,x2,x)"
      ],
      "metadata": {
        "colab": {
          "base_uri": "https://localhost:8080/"
        },
        "id": "M1vPqdnYRT4u",
        "outputId": "dd8ea557-db89-49bc-dd1c-bb535d0d186c"
      },
      "execution_count": 56,
      "outputs": [
        {
          "output_type": "stream",
          "name": "stdout",
          "text": [
            "a d y a h c t e B l e i k e z E\n"
          ]
        }
      ]
    }
  ]
}