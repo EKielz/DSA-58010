{
  "nbformat": 4,
  "nbformat_minor": 0,
  "metadata": {
    "colab": {
      "provenance": [],
      "authorship_tag": "ABX9TyNS959FBa4N0oMbQvWyJ6mG",
      "include_colab_link": true
    },
    "kernelspec": {
      "name": "python3",
      "display_name": "Python 3"
    },
    "language_info": {
      "name": "python"
    }
  },
  "cells": [
    {
      "cell_type": "markdown",
      "metadata": {
        "id": "view-in-github",
        "colab_type": "text"
      },
      "source": [
        "<a href=\"https://colab.research.google.com/github/EKielz/DSA-58010/blob/main/Activity_2.ipynb\" target=\"_parent\"><img src=\"https://colab.research.google.com/assets/colab-badge.svg\" alt=\"Open In Colab\"/></a>"
      ]
    },
    {
      "cell_type": "code",
      "execution_count": 3,
      "metadata": {
        "colab": {
          "base_uri": "https://localhost:8080/"
        },
        "id": "CXtpt_1INtCW",
        "outputId": "c33837ab-c858-4508-e6af-143d0b72c6e3"
      },
      "outputs": [
        {
          "output_type": "stream",
          "name": "stdout",
          "text": [
            "[1, 2, 3, 5, 7, 11, 13, 17, 19]\n",
            "1\n",
            "19\n"
          ]
        }
      ],
      "source": [
        "PNumbers = [1, 2, 3, 5, 7, 11, 13, 17, 19]\n",
        "\n",
        "head = PNumbers [0]\n",
        "tail = PNumbers [8]\n",
        "\n",
        "print(PNumbers)\n",
        "print(head)\n",
        "print(tail)"
      ]
    }
  ]
}