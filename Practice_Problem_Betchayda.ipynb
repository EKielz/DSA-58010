{
  "nbformat": 4,
  "nbformat_minor": 0,
  "metadata": {
    "colab": {
      "name": "Practice Problem_Betchayda.ipynb",
      "provenance": [],
      "authorship_tag": "ABX9TyNX6w32U9eokfnA1P1sK62M",
      "include_colab_link": true
    },
    "kernelspec": {
      "name": "python3",
      "display_name": "Python 3"
    },
    "language_info": {
      "name": "python"
    }
  },
  "cells": [
    {
      "cell_type": "markdown",
      "metadata": {
        "id": "view-in-github",
        "colab_type": "text"
      },
      "source": [
        "<a href=\"https://colab.research.google.com/github/EKielz/DSA-58010/blob/main/Practice_Problem_Betchayda.ipynb\" target=\"_parent\"><img src=\"https://colab.research.google.com/assets/colab-badge.svg\" alt=\"Open In Colab\"/></a>"
      ]
    },
    {
      "cell_type": "code",
      "execution_count": 6,
      "metadata": {
        "colab": {
          "base_uri": "https://localhost:8080/"
        },
        "id": "F7lDFJzmiCcs",
        "outputId": "0cb8a417-70fe-40f3-d855-ba5d628946be"
      },
      "outputs": [
        {
          "output_type": "stream",
          "name": "stdout",
          "text": [
            "26\n",
            "98\n",
            "62\n"
          ]
        }
      ],
      "source": [
        "numbers = [26,49,98,87,62,75]\n",
        "\n",
        "for i in numbers:\n",
        "    if i == 237:\n",
        "        print(i)\n",
        "        break;\n",
        "    elif i % 2 == 0:\n",
        "        print(i)"
      ]
    }
  ]
}