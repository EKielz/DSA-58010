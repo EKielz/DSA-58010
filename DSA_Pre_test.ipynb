{
  "nbformat": 4,
  "nbformat_minor": 0,
  "metadata": {
    "colab": {
      "name": "DSA Pre-test Question 2",
      "provenance": [],
      "authorship_tag": "ABX9TyNOyXjuVBFWKXCnZz/4NwSk",
      "include_colab_link": true
    },
    "kernelspec": {
      "name": "python3",
      "display_name": "Python 3"
    },
    "language_info": {
      "name": "python"
    }
  },
  "cells": [
    {
      "cell_type": "markdown",
      "metadata": {
        "id": "view-in-github",
        "colab_type": "text"
      },
      "source": [
        "<a href=\"https://colab.research.google.com/github/EKielz/DSA-58010/blob/main/DSA_Pre_test_Question_2.ipynb\" target=\"_parent\"><img src=\"https://colab.research.google.com/assets/colab-badge.svg\" alt=\"Open In Colab\"/></a>"
      ]
    },
    {
      "cell_type": "markdown",
      "source": [
        "\n",
        "# Explain how Polymorphism and Inheritance are being applied in the program\n"
      ],
      "metadata": {
        "id": "JVVE_UcoJUJ-"
      }
    },
    {
      "cell_type": "code",
      "execution_count": 5,
      "metadata": {
        "colab": {
          "base_uri": "https://localhost:8080/"
        },
        "id": "xvlGH7GRJNz8",
        "outputId": "df1824de-1053-4ee4-fe3f-84f44f555bcc"
      },
      "outputs": [
        {
          "output_type": "stream",
          "name": "stdout",
          "text": [
            "16\n",
            "16\n",
            "20\n"
          ]
        }
      ],
      "source": [
        "class Shape:\n",
        "  def Area(self):\n",
        "    pass\n",
        "  def Perimeter(self):\n",
        "    pass\n",
        "class Rectangle:\n",
        "  def __init__(self, side1, side2):\n",
        "    self.side1 = side1\n",
        "    self.side2 = side2\n",
        "  def Area(self):\n",
        "    print(self.side1*self.side2)\n",
        "  def Perimeter(self):\n",
        "    print(2*(self.side1 + self.side2))\n",
        "\n",
        "class Square(Shape):\n",
        "  def __init__(self, side):\n",
        "    self.side = side\n",
        "  def Area(self):\n",
        "    print(self.side**2)\n",
        "  def Perimeter(self):\n",
        "    print(self.side*4)\n",
        "square = Square(4)\n",
        "square.Area()\n",
        "\n",
        "rect = Rectangle(7, 3)\n",
        "rect.Area\n",
        "\n",
        "square.Perimeter()\n",
        "rect.Perimeter()"
      ]
    },
    {
      "cell_type": "markdown",
      "source": [
        "Polymorphism was applied in this code in a way to create a variable or object to take on multiple forms which helps the developers to program the code in general rathern than doing the program in a specific way. As for Inheritance, it was applied to the code to create a class that were already built to a existing class, to specify a new implementation while having the same behavior of program."
      ],
      "metadata": {
        "id": "CK8F8kCkLpve"
      }
    },
    {
      "cell_type": "code",
      "source": [
        ""
      ],
      "metadata": {
        "id": "odi5XujaMu8t"
      },
      "execution_count": null,
      "outputs": []
    }
  ]
}
