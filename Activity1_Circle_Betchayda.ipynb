{
  "nbformat": 4,
  "nbformat_minor": 0,
  "metadata": {
    "colab": {
      "name": "Activity1_Circle_Betchayda.ipynb",
      "provenance": [],
      "authorship_tag": "ABX9TyPlSgqJ8e6wB3WOHzPmoWbf",
      "include_colab_link": true
    },
    "kernelspec": {
      "name": "python3",
      "display_name": "Python 3"
    },
    "language_info": {
      "name": "python"
    }
  },
  "cells": [
    {
      "cell_type": "markdown",
      "metadata": {
        "id": "view-in-github",
        "colab_type": "text"
      },
      "source": [
        "<a href=\"https://colab.research.google.com/github/EKielz/DSA-58010/blob/main/Activity1_Circle_Betchayda.ipynb\" target=\"_parent\"><img src=\"https://colab.research.google.com/assets/colab-badge.svg\" alt=\"Open In Colab\"/></a>"
      ]
    },
    {
      "cell_type": "markdown",
      "source": [
        "Compute the Area of a Circle (Radius)"
      ],
      "metadata": {
        "id": "FV_f4iUXdvog"
      }
    },
    {
      "cell_type": "code",
      "execution_count": 7,
      "metadata": {
        "id": "aofU57MwdoD7",
        "colab": {
          "base_uri": "https://localhost:8080/"
        },
        "outputId": "c4b5ef2d-3b8a-4304-eadf-e61e71239f85"
      },
      "outputs": [
        {
          "output_type": "stream",
          "name": "stdout",
          "text": [
            " Please Enter the radius of a circle: 5\n",
            " Area Of a Circle = 78.50\n"
          ]
        }
      ],
      "source": [
        "import math\n",
        "\n",
        "PI = 3.14\n",
        "radius = float(input(' Please Enter the radius of a circle: '))\n",
        "area = PI * radius * radius\n",
        "\n",
        "print(\" Area Of a Circle = %.2f\" %area)"
      ]
    },
    {
      "cell_type": "markdown",
      "source": [
        "\n",
        "Compute the Area of a Circle (Diameter)"
      ],
      "metadata": {
        "id": "4KeoSdEueA-5"
      }
    },
    {
      "cell_type": "code",
      "source": [
        "import math\n",
        "\n",
        "diameter = float(input(' Please Enter the diameter of a circle: '))\n",
        "radius = diameter / 2\n",
        "area = PI * radius * radius\n",
        "\n",
        "print(\" Area of a Circle = %.2f\" %area)"
      ],
      "metadata": {
        "colab": {
          "base_uri": "https://localhost:8080/"
        },
        "id": "ds9I6NOLeEed",
        "outputId": "ed36f31b-7bff-4f7f-bcb0-c90f369ddfd8"
      },
      "execution_count": null,
      "outputs": [
        {
          "output_type": "stream",
          "name": "stdout",
          "text": [
            " Please Enter the diameter of a circle: 10\n",
            " Area of a Circle = 78.50\n"
          ]
        }
      ]
    }
  ]
}